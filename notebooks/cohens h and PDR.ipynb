{
 "cells": [
  {
   "cell_type": "markdown",
   "id": "41e8c39e",
   "metadata": {},
   "source": [
    "Visualize trend of PDR and Cohen's h for various values."
   ]
  },
  {
   "cell_type": "code",
   "execution_count": null,
   "id": "c2026e32",
   "metadata": {},
   "outputs": [],
   "source": [
    "import sys\n",
    "import os\n",
    "import numpy as np\n",
    "import seaborn as sns\n",
    "sns.set()\n",
    "import matplotlib.pyplot as plt\n",
    "import pandas as pd\n",
    "\n",
    "plt.rcParams.update({'figure.figsize': (8, 4)})\n",
    "\n",
    "%matplotlib inline\n",
    "import matplotlib_inline\n",
    "matplotlib_inline.backend_inline.set_matplotlib_formats('svg')\n",
    "\n",
    "# clone unitxt from https://github.com/IBM/unitxt\n",
    "unitxt_src_dir = os.path.realpath(os.path.join(\"..\", \"..\", \"FMEVAL\", \"unitxt\", \"src\"))\n",
    "\n",
    "sys.path.append(unitxt_src_dir)\n",
    "# import the metrics from there\n",
    "from unitxt.metrics import normalized_cohens_h, performance_drop_rate, normalized_hedges_g"
   ]
  },
  {
   "cell_type": "code",
   "execution_count": null,
   "id": "e31a1aec",
   "metadata": {},
   "outputs": [],
   "source": [
    "p1 = np.linspace(0, 1, 11).round(1)\n",
    "p2 = np.linspace(0, 1, 11).round(1)\n",
    "pp1 = []\n",
    "pp2 = []\n",
    "cohen = []\n",
    "pdr = []\n",
    "pstat = []\n",
    "hedges = []\n",
    "hedges_low = []\n",
    "hedges_hi = []\n",
    "\n",
    "def proportions_diff(p1, p2, n1, n2):\n",
    "    phat = (n1*p1 + n2*p2)/(n1 + n2)\n",
    "    return (p2 - p1)/np.sqrt(phat*(1-phat)*(1/n1 + 1/n2))\n",
    "\n",
    "nparaphrase = 5\n",
    "nreps = 200\n",
    "\n",
    "for ii in p1:\n",
    "    for jj in p2:\n",
    "        subgroup_scores_dict = {\"original\": [ii], \"paraphrase\": [jj]}\n",
    "        pp1.append(ii)\n",
    "        pp2.append(jj)\n",
    "        cohen.append(normalized_cohens_h(subgroup_scores_dict, [\"original\"], [\"paraphrase\"]))\n",
    "        pdr.append(performance_drop_rate(subgroup_scores_dict, [\"original\"], [\"paraphrase\"]))\n",
    "        pstat.append(proportions_diff(ii, jj, 1, 5))\n",
    "        \n",
    "        # for hedges, resample nreps times\n",
    "        # assume a single original draw and nparaphrase draws with that proportion\n",
    "        original = np.random.binomial(n=1, p=ii, size=(nreps,))\n",
    "        paraphrases = np.random.binomial(n=1, p=jj, size=(nreps, nparaphrase))\n",
    "        hedges_g_sample = np.array([normalized_hedges_g({\"original\": [aa], \"paraphrase\": bb.tolist()}, [\"original\"], [\"paraphrase\"])\n",
    "                                  for aa, bb in zip(original, paraphrases)])\n",
    "        hedges.append(np.mean(hedges_g_sample))\n",
    "        hedges_low.append(np.quantile(hedges_g_sample, 0.025))\n",
    "        hedges_hi.append(np.quantile(hedges_g_sample, 0.975))\n",
    "\n",
    "\n",
    "df = pd.DataFrame({\"p1\": pp1, \"p2\": pp2, \"normalized Cohen's h\": cohen, \"PDR\": pdr, \n",
    "                   \"proportion_diff_stat\": pstat, \"hedges_g\": hedges, \"hedges_hi\": hedges_hi, \"hedges_low\": hedges_low})\n",
    "df[\"reverse PDR\"] = -1 * df[\"PDR\"]"
   ]
  },
  {
   "cell_type": "code",
   "execution_count": null,
   "id": "2996330f",
   "metadata": {
    "scrolled": true
   },
   "outputs": [],
   "source": [
    "sns.scatterplot(data=df, x=\"normalized Cohen's h\", y=\"reverse PDR\", marker=\"o\")\n",
    "plt.show()\n",
    "\n",
    "for ii in p1:\n",
    "    tmp = df.loc[df[\"p1\"] == ii]\n",
    "    tmp.index = tmp[\"p2\"]\n",
    "    # tmp[[\"normalized Cohen's h\", \"reverse_PDR\", \"proportion_diff_stat\", \"hedges_g\"]].plot.line(style='.-')\n",
    "    tmp[[\"normalized Cohen's h\", \"reverse PDR\"]].plot.line(style=['.-', '.--'], fontsize='large', ms=12)\n",
    "    plt.title(r'baseline accuracy ($score_i^o$) = ' + f'{ii}', fontsize='large')\n",
    "    plt.xlabel(r'mean accuracy over perturbations ($score_i^p$)', fontsize='large')\n",
    "    plt.ylabel('metric value', fontsize='large')\n",
    "    plt.legend(fontsize='large')\n",
    "    plt.tight_layout()\n",
    "    if ii == 1.0:\n",
    "        plt.savefig('../figures/pdr_h_comparison.png')\n",
    "    plt.show()\n",
    "\n",
    "    \n",
    "\n",
    "\n",
    "for ii in p2:\n",
    "    tmp = df.loc[df[\"p2\"] == ii]\n",
    "    tmp.index = tmp[\"p1\"]\n",
    "    tmp[[\"normalized Cohen's h\", \"reverse PDR\"]].plot.line(style=['.-', '.--'], fontsize='large', ms=12)\n",
    "    plt.title(r'baseline accuracy ($p_{i,0}$) = ' + f'{ii}', fontsize='large')\n",
    "    plt.legend(fontsize='large')\n",
    "    plt.xlabel(r'mean accuracy over perturbations ($p_{i,1}$)', fontsize='large')\n",
    "    plt.ylabel('metric value', fontsize='large')\n",
    "    plt.show()\n"
   ]
  },
  {
   "cell_type": "code",
   "execution_count": null,
   "id": "d06e6770",
   "metadata": {},
   "outputs": [],
   "source": [
    "# calculate correlation\n",
    "p = np.linspace(start=0, stop=1, num=1000)\n",
    "grp_dicts = [{\"original\": [1.0], \"paraphrase\": [ii]} for ii in p]\n",
    "cohen = np.array([normalized_cohens_h(d, [\"original\"], [\"paraphrase\"]) for d in grp_dicts])\n",
    "rev_pdr = 1 - np.array([performance_drop_rate(d, [\"original\"], [\"paraphrase\"]) for d in grp_dicts])\n",
    "np.corrcoef(cohen, rev_pdr)\n",
    "\n"
   ]
  },
  {
   "cell_type": "code",
   "execution_count": null,
   "id": "5ea13874",
   "metadata": {},
   "outputs": [],
   "source": [
    "# calculate Cohen's h for specific example\n",
    "subgroup_scores_dict = {\"original\": [0.8], \"paraphrase\": [0.1]}\n",
    "# from 0.8 to 0.1\n",
    "print(normalized_cohens_h(subgroup_scores_dict, [\"original\"], [\"paraphrase\"]))\n",
    "print(normalized_cohens_h(subgroup_scores_dict, [\"original\"], [\"paraphrase\"]) * np.pi)\n",
    "\n",
    "# from 0.1 to 0.8\n",
    "print(normalized_cohens_h(subgroup_scores_dict, [\"paraphrase\"], [\"original\"]))"
   ]
  }
 ],
 "metadata": {
  "kernelspec": {
   "display_name": "llm_eval",
   "language": "python",
   "name": "llm_eval"
  },
  "language_info": {
   "codemirror_mode": {
    "name": "ipython",
    "version": 3
   },
   "file_extension": ".py",
   "mimetype": "text/x-python",
   "name": "python",
   "nbconvert_exporter": "python",
   "pygments_lexer": "ipython3",
   "version": "3.10.14"
  }
 },
 "nbformat": 4,
 "nbformat_minor": 5
}
